{
 "cells": [
  {
   "cell_type": "code",
   "execution_count": 6,
   "metadata": {},
   "outputs": [],
   "source": [
    "import os\n",
    "from tqdm import tqdm\n",
    "from azure.storage.blob import BlobServiceClient\n",
    "\n",
    "def upload_files(blob_service_client, local_dir, container_name, blob_dir=\"\"):\n",
    "    # List all files in the local directory\n",
    "    local_files = os.listdir(local_dir)\n",
    "\n",
    "    # Create a progress bar\n",
    "    with tqdm(total=len(local_files), ncols=100) as pbar:\n",
    "        # Loop through each file\n",
    "        for file in local_files:\n",
    "            if file==\".DS_Store\":\n",
    "                continue\n",
    "            print(f\"Uploading file {file}.\")\n",
    "            # Construct the full local path\n",
    "            local_path = os.path.join(local_dir, file)\n",
    "\n",
    "            # Construct the blob name\n",
    "            blob_name = os.path.join(blob_dir, file)\n",
    "\n",
    "            # Create or get the container client\n",
    "            container_client = blob_service_client.get_container_client(container_name)\n",
    "            if not container_client.exists():\n",
    "                container_client.create_container()\n",
    "                print(f\"Container '{container_name}' created successfully.\")\n",
    "            else:\n",
    "                print(f\"Container '{container_name}' already exists.\")\n",
    "            \n",
    "            # Create a blob client\n",
    "            blob_client = blob_service_client.get_blob_client(container_name,blob_name)\n",
    "\n",
    "            # Check if the blob already exists\n",
    "            if not blob_client.exists():\n",
    "                # If the blob does not exist, upload the file\n",
    "                with open(local_path, \"rb\") as data:\n",
    "                    blob_client.upload_blob(data, connection_timeout=600)   \n",
    "                print(f\"Blob '{blob_name}' created successfully.\")             \n",
    "            else:\n",
    "                print(f\"Blob '{blob_name}' already exists.\")\n",
    "\n",
    "\n",
    "            # Update the progress bar\n",
    "            pbar.update(1)"
   ]
  },
  {
   "cell_type": "code",
   "execution_count": 7,
   "metadata": {},
   "outputs": [
    {
     "name": "stderr",
     "output_type": "stream",
     "text": [
      "  0%|                                                                        | 0/12 [00:00<?, ?it/s]"
     ]
    },
    {
     "name": "stdout",
     "output_type": "stream",
     "text": [
      "Uploading file Distribution_Theory.pdf.\n"
     ]
    },
    {
     "name": "stderr",
     "output_type": "stream",
     "text": [
      "  8%|█████▎                                                          | 1/12 [00:00<00:03,  3.04it/s]"
     ]
    },
    {
     "name": "stdout",
     "output_type": "stream",
     "text": [
      "Container 'categorical-data-analysis' already exists.\n",
      "Blob 'Distribution_Theory.pdf' already exists.\n",
      "Uploading file 3rd-ed-alan_agresti_categorical_data_analysis.pdf.\n",
      "Container 'categorical-data-analysis' already exists.\n"
     ]
    },
    {
     "name": "stderr",
     "output_type": "stream",
     "text": [
      " 17%|██████████▋                                                     | 2/12 [00:35<03:28, 20.86s/it]"
     ]
    },
    {
     "name": "stdout",
     "output_type": "stream",
     "text": [
      "Blob '3rd-ed-alan_agresti_categorical_data_analysis.pdf' created successfully.\n",
      "Uploading file LogisticRegression.R.\n",
      "Container 'categorical-data-analysis' already exists.\n"
     ]
    },
    {
     "name": "stderr",
     "output_type": "stream",
     "text": [
      " 25%|████████████████                                                | 3/12 [00:35<01:43, 11.45s/it]"
     ]
    },
    {
     "name": "stdout",
     "output_type": "stream",
     "text": [
      "Blob 'LogisticRegression.R' created successfully.\n",
      "Uploading file Part1.pdf.\n",
      "Container 'categorical-data-analysis' already exists.\n"
     ]
    },
    {
     "name": "stderr",
     "output_type": "stream",
     "text": [
      " 33%|█████████████████████▎                                          | 4/12 [00:36<00:56,  7.05s/it]"
     ]
    },
    {
     "name": "stdout",
     "output_type": "stream",
     "text": [
      "Blob 'Part1.pdf' created successfully.\n",
      "Uploading file Part2.pdf.\n",
      "Container 'categorical-data-analysis' already exists.\n"
     ]
    },
    {
     "name": "stderr",
     "output_type": "stream",
     "text": [
      " 42%|██████████████████████████▋                                     | 5/12 [00:37<00:34,  4.99s/it]"
     ]
    },
    {
     "name": "stdout",
     "output_type": "stream",
     "text": [
      "Blob 'Part2.pdf' created successfully.\n",
      "Uploading file Part3.pdf.\n",
      "Container 'categorical-data-analysis' already exists.\n"
     ]
    },
    {
     "name": "stderr",
     "output_type": "stream",
     "text": [
      " 50%|████████████████████████████████                                | 6/12 [00:42<00:30,  5.04s/it]"
     ]
    },
    {
     "name": "stdout",
     "output_type": "stream",
     "text": [
      "Blob 'Part3.pdf' created successfully.\n",
      "Uploading file Part7.pdf.\n",
      "Container 'categorical-data-analysis' already exists.\n"
     ]
    },
    {
     "name": "stderr",
     "output_type": "stream",
     "text": [
      " 58%|█████████████████████████████████████▎                          | 7/12 [00:48<00:26,  5.31s/it]"
     ]
    },
    {
     "name": "stdout",
     "output_type": "stream",
     "text": [
      "Blob 'Part7.pdf' created successfully.\n",
      "Uploading file Part6.pdf.\n",
      "Container 'categorical-data-analysis' already exists.\n"
     ]
    },
    {
     "name": "stderr",
     "output_type": "stream",
     "text": [
      " 67%|██████████████████████████████████████████▋                     | 8/12 [00:51<00:18,  4.57s/it]"
     ]
    },
    {
     "name": "stdout",
     "output_type": "stream",
     "text": [
      "Blob 'Part6.pdf' created successfully.\n",
      "Uploading file Part4.pdf.\n",
      "Container 'categorical-data-analysis' already exists.\n"
     ]
    },
    {
     "name": "stderr",
     "output_type": "stream",
     "text": [
      " 75%|████████████████████████████████████████████████                | 9/12 [00:56<00:14,  4.69s/it]"
     ]
    },
    {
     "name": "stdout",
     "output_type": "stream",
     "text": [
      "Blob 'Part4.pdf' created successfully.\n",
      "Uploading file Part5.pdf.\n",
      "Container 'categorical-data-analysis' already exists.\n"
     ]
    },
    {
     "name": "stderr",
     "output_type": "stream",
     "text": [
      " 92%|█████████████████████████████████████████████████████████▊     | 11/12 [01:01<00:05,  5.62s/it]"
     ]
    },
    {
     "name": "stdout",
     "output_type": "stream",
     "text": [
      "Blob 'Part5.pdf' created successfully.\n",
      "Uploading file Proportions.R.\n",
      "Container 'categorical-data-analysis' already exists.\n",
      "Blob 'Proportions.R' created successfully.\n"
     ]
    },
    {
     "name": "stderr",
     "output_type": "stream",
     "text": [
      "\n"
     ]
    }
   ],
   "source": [
    "# Define the local directories and corresponding container names\n",
    "data = [\n",
    "    {\"local_dir\": \"../SampleData/CategoricalDataAnalysis\", \"container_name\": \"categorical-data-analysis\", \"blob_dir\": \"\"},\n",
    "]\n",
    "\n",
    "\n",
    "# Step 1: Connect to BlobServiceClient\n",
    "connection_str=\"\"\n",
    "blob_service_client = BlobServiceClient.from_connection_string(conn_str=connection_str)\n",
    "\n",
    "\n",
    "# Stepb 2: Upload the files to Azure\n",
    "for item in data:\n",
    "    upload_files(blob_service_client, item[\"local_dir\"], item[\"container_name\"], item[\"blob_dir\"])\n"
   ]
  }
 ],
 "metadata": {
  "kernelspec": {
   "display_name": "GPTVenv",
   "language": "python",
   "name": "python3"
  },
  "language_info": {
   "codemirror_mode": {
    "name": "ipython",
    "version": 3
   },
   "file_extension": ".py",
   "mimetype": "text/x-python",
   "name": "python",
   "nbconvert_exporter": "python",
   "pygments_lexer": "ipython3",
   "version": "3.12.5"
  },
  "orig_nbformat": 4
 },
 "nbformat": 4,
 "nbformat_minor": 2
}
