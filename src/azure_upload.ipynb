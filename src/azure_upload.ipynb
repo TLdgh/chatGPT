{
 "cells": [
  {
   "cell_type": "code",
   "execution_count": 1,
   "metadata": {},
   "outputs": [],
   "source": [
    "import os\n",
    "from tqdm import tqdm\n",
    "from azure.storage.blob import BlobServiceClient\n",
    "\n",
    "def upload_files(blob_service_client, local_dir, container_name, blob_dir=\"\"):\n",
    "    # List all files in the local directory\n",
    "    local_files = os.listdir(local_dir)\n",
    "\n",
    "    # Create a progress bar\n",
    "    with tqdm(total=len(local_files), ncols=100) as pbar:\n",
    "        \n",
    "        # Create or get the container client\n",
    "        container_client = blob_service_client.get_container_client(container_name)\n",
    "        if not container_client.exists():\n",
    "            container_client.create_container()\n",
    "            print(f\"Container '{container_name}' created successfully.\")\n",
    "        else:\n",
    "            print(f\"Container '{container_name}' already exists.\")\n",
    "        \n",
    "        # Loop through each file\n",
    "        for file in local_files:\n",
    "            if file==\".DS_Store\":\n",
    "                continue\n",
    "            print(f\"Uploading file {file}.\")\n",
    "            # Construct the full local path\n",
    "            local_path = os.path.join(local_dir, file)\n",
    "\n",
    "            # Construct the blob name\n",
    "            blob_name = os.path.join(blob_dir, file)\n",
    "\n",
    "            # Create a blob client\n",
    "            blob_client = blob_service_client.get_blob_client(container_name,blob_name)\n",
    "\n",
    "            # Check if the blob already exists\n",
    "            if not blob_client.exists():\n",
    "                # If the blob does not exist, upload the file\n",
    "                with open(local_path, \"rb\") as data:\n",
    "                    blob_client.upload_blob(data, connection_timeout=600)   \n",
    "                print(f\"Blob '{blob_name}' created successfully.\")             \n",
    "            else:\n",
    "                print(f\"Blob '{blob_name}' already exists.\")\n",
    "\n",
    "            # Update the progress bar\n",
    "            pbar.update(1)"
   ]
  },
  {
   "cell_type": "code",
   "execution_count": 3,
   "metadata": {},
   "outputs": [
    {
     "name": "stderr",
     "output_type": "stream",
     "text": [
      " 25%|████████████████                                                | 3/12 [00:00<00:00,  9.32it/s]"
     ]
    },
    {
     "name": "stdout",
     "output_type": "stream",
     "text": [
      "Container 'categorical-data-analysis' already exists.\n",
      "Uploading file Distribution_Theory.pdf.\n",
      "Blob 'Distribution_Theory.pdf' already exists.\n",
      "Uploading file 3rd-ed-alan_agresti_categorical_data_analysis.pdf.\n",
      "Blob '3rd-ed-alan_agresti_categorical_data_analysis.pdf' already exists.\n",
      "Uploading file LogisticRegression.R.\n",
      "Blob 'LogisticRegression.R' already exists.\n",
      "Uploading file Part1.pdf.\n"
     ]
    },
    {
     "name": "stderr",
     "output_type": "stream",
     "text": [
      " 42%|██████████████████████████▋                                     | 5/12 [00:00<00:00,  9.47it/s]"
     ]
    },
    {
     "name": "stdout",
     "output_type": "stream",
     "text": [
      "Blob 'Part1.pdf' already exists.\n",
      "Uploading file Part2.pdf.\n",
      "Blob 'Part2.pdf' already exists.\n",
      "Uploading file Part3.pdf.\n",
      "Blob 'Part3.pdf' already exists.\n",
      "Uploading file Part7.pdf.\n",
      "Blob 'Part7.pdf' already exists.\n",
      "Uploading file Part6.pdf.\n"
     ]
    },
    {
     "name": "stderr",
     "output_type": "stream",
     "text": [
      " 92%|█████████████████████████████████████████████████████████▊     | 11/12 [00:00<00:00, 13.55it/s]\n"
     ]
    },
    {
     "name": "stdout",
     "output_type": "stream",
     "text": [
      "Blob 'Part6.pdf' already exists.\n",
      "Uploading file Part4.pdf.\n",
      "Blob 'Part4.pdf' already exists.\n",
      "Uploading file Part5.pdf.\n",
      "Blob 'Part5.pdf' already exists.\n",
      "Uploading file Proportions.R.\n",
      "Blob 'Proportions.R' already exists.\n"
     ]
    },
    {
     "name": "stderr",
     "output_type": "stream",
     "text": [
      "  8%|█████▎                                                          | 1/12 [00:00<00:01,  5.56it/s]"
     ]
    },
    {
     "name": "stdout",
     "output_type": "stream",
     "text": [
      "Container 'glm' created successfully.\n",
      "Uploading file .Rhistory.\n",
      "Blob 'Lectures/.Rhistory' created successfully.\n",
      "Uploading file Overdispersion.pdf.\n"
     ]
    },
    {
     "name": "stderr",
     "output_type": "stream",
     "text": [
      " 17%|██████████▋                                                     | 2/12 [00:00<00:04,  2.30it/s]"
     ]
    },
    {
     "name": "stdout",
     "output_type": "stream",
     "text": [
      "Blob 'Lectures/Overdispersion.pdf' created successfully.\n",
      "Uploading file glmbook.pdf.\n"
     ]
    },
    {
     "name": "stderr",
     "output_type": "stream",
     "text": [
      " 25%|████████████████                                                | 3/12 [00:19<01:20,  8.97s/it]"
     ]
    },
    {
     "name": "stdout",
     "output_type": "stream",
     "text": [
      "Blob 'Lectures/glmbook.pdf' created successfully.\n",
      "Uploading file Lecture.Math523.pdf.\n"
     ]
    },
    {
     "name": "stderr",
     "output_type": "stream",
     "text": [
      " 33%|█████████████████████▎                                          | 4/12 [00:20<00:45,  5.73s/it]"
     ]
    },
    {
     "name": "stdout",
     "output_type": "stream",
     "text": [
      "Blob 'Lectures/Lecture.Math523.pdf' created successfully.\n",
      "Uploading file MATH523-GLM.pdf.\n"
     ]
    },
    {
     "name": "stderr",
     "output_type": "stream",
     "text": [
      " 42%|██████████████████████████▋                                     | 5/12 [00:21<00:28,  4.05s/it]"
     ]
    },
    {
     "name": "stdout",
     "output_type": "stream",
     "text": [
      "Blob 'Lectures/MATH523-GLM.pdf' created successfully.\n",
      "Uploading file Poisson.pdf.\n"
     ]
    },
    {
     "name": "stderr",
     "output_type": "stream",
     "text": [
      " 58%|█████████████████████████████████████▎                          | 7/12 [00:22<00:09,  1.90s/it]"
     ]
    },
    {
     "name": "stdout",
     "output_type": "stream",
     "text": [
      "Blob 'Lectures/Poisson.pdf' created successfully.\n",
      "Uploading file Poisson.Rmd.\n",
      "Blob 'Lectures/Poisson.Rmd' created successfully.\n",
      "Uploading file loglinearpoissreal.Rmd.\n",
      "Blob 'Lectures/loglinearpoissreal.Rmd' created successfully.\n",
      "Uploading file loglinear.Simple 2x2.pdf.\n"
     ]
    },
    {
     "name": "stderr",
     "output_type": "stream",
     "text": [
      " 83%|████████████████████████████████████████████████████▌          | 10/12 [00:22<00:01,  1.23it/s]"
     ]
    },
    {
     "name": "stdout",
     "output_type": "stream",
     "text": [
      "Blob 'Lectures/loglinear.Simple 2x2.pdf' created successfully.\n",
      "Uploading file Binary.Rmd.\n",
      "Blob 'Lectures/Binary.Rmd' created successfully.\n",
      "Uploading file Binary.pdf.\n"
     ]
    },
    {
     "name": "stderr",
     "output_type": "stream",
     "text": [
      " 92%|█████████████████████████████████████████████████████████▊     | 11/12 [00:23<00:00,  1.37it/s]"
     ]
    },
    {
     "name": "stdout",
     "output_type": "stream",
     "text": [
      "Blob 'Lectures/Binary.pdf' created successfully.\n",
      "Uploading file loglinearPoisson 3x3.pdf.\n"
     ]
    },
    {
     "name": "stderr",
     "output_type": "stream",
     "text": [
      "100%|███████████████████████████████████████████████████████████████| 12/12 [00:23<00:00,  1.96s/it]"
     ]
    },
    {
     "name": "stdout",
     "output_type": "stream",
     "text": [
      "Blob 'Lectures/loglinearPoisson 3x3.pdf' created successfully.\n"
     ]
    },
    {
     "name": "stderr",
     "output_type": "stream",
     "text": [
      "\n"
     ]
    }
   ],
   "source": [
    "# Define the local directories and corresponding container names\n",
    "data = [\n",
    "    {\"local_dir\": \"../SampleData/CategoricalDataAnalysis\", \"container_name\": \"categorical-data-analysis\", \"blob_dir\": \"\"},\n",
    "    {\"local_dir\": \"../SampleData/GLM/Lectures\", \"container_name\": \"glm\", \"blob_dir\": \"Lectures\"},\n",
    "]\n",
    "\n",
    "\n",
    "# Step 1: Connect to BlobServiceClient\n",
    "connection_str=\"\"\n",
    "blob_service_client = BlobServiceClient.from_connection_string(conn_str=connection_str)\n",
    "\n",
    "\n",
    "# Stepb 2: Upload the files to Azure\n",
    "for item in data:\n",
    "    upload_files(blob_service_client, item[\"local_dir\"], item[\"container_name\"], item[\"blob_dir\"])\n"
   ]
  }
 ],
 "metadata": {
  "kernelspec": {
   "display_name": "GPTVenv",
   "language": "python",
   "name": "python3"
  },
  "language_info": {
   "codemirror_mode": {
    "name": "ipython",
    "version": 3
   },
   "file_extension": ".py",
   "mimetype": "text/x-python",
   "name": "python",
   "nbconvert_exporter": "python",
   "pygments_lexer": "ipython3",
   "version": "3.12.5"
  },
  "orig_nbformat": 4
 },
 "nbformat": 4,
 "nbformat_minor": 2
}
