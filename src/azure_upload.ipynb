{
 "cells": [
  {
   "cell_type": "code",
   "execution_count": 1,
   "metadata": {},
   "outputs": [],
   "source": [
    "import os\n",
    "from tqdm import tqdm\n",
    "from azure.storage.blob import BlobServiceClient\n",
    "\n",
    "def upload_files(blob_service_client, local_dir, container_name, blob_dir=\"\"):\n",
    "    # List all files in the local directory\n",
    "    local_files = os.listdir(local_dir)\n",
    "\n",
    "    # Create a progress bar\n",
    "    with tqdm(total=len(local_files), ncols=100) as pbar:\n",
    "        # Loop through each file\n",
    "        for file in local_files:\n",
    "            # Construct the full local path\n",
    "            local_path = os.path.join(local_dir, file)\n",
    "\n",
    "            # Construct the blob name\n",
    "            blob_name = os.path.join(blob_dir, file)\n",
    "\n",
    "            # Create or get the container client\n",
    "            container_client = blob_service_client.get_container_client(container_name)\n",
    "            if not container_client.exists():\n",
    "                container_client.create_container()\n",
    "                print(f\"Container '{container_name}' created successfully.\")\n",
    "            else:\n",
    "                print(f\"Container '{container_name}' already exists.\")\n",
    "            \n",
    "            # Create a blob client\n",
    "            blob_client = blob_service_client.get_blob_client(container_name,blob_name)\n",
    "\n",
    "            # Check if the blob already exists\n",
    "            if not blob_client.exists():\n",
    "                # If the blob does not exist, upload the file\n",
    "                with open(local_path, \"rb\") as data:\n",
    "                    blob_client.upload_blob(data)   \n",
    "                print(f\"Blob '{blob_name}' created successfully.\")             \n",
    "            else:\n",
    "                print(f\"Blob '{blob_name}' already exists.\")\n",
    "\n",
    "\n",
    "            # Update the progress bar\n",
    "            pbar.update(1)"
   ]
  },
  {
   "cell_type": "code",
   "execution_count": null,
   "metadata": {},
   "outputs": [],
   "source": [
    "# Define the local directories and corresponding container names\n",
    "data = [\n",
    "    {\"local_dir\": \"../SampleData/\", \"container_name\": \"samplepicture\", \"blob_dir\": \"Data\"},\n",
    "]\n",
    "\n",
    "\n",
    "# Step 1: Connect to BlobServiceClient\n",
    "connection_str=\"\"\n",
    "blob_service_client = BlobServiceClient.from_connection_string(conn_str=connection_str)\n",
    "\n",
    "\n",
    "# Stepb 2: Upload the files to Azure\n",
    "for item in data:\n",
    "    upload_files(blob_service_client, item[\"local_dir\"], item[\"container_name\"], item[\"blob_dir\"])\n"
   ]
  }
 ],
 "metadata": {
  "kernelspec": {
   "display_name": "GPTVenv",
   "language": "python",
   "name": "python3"
  },
  "language_info": {
   "codemirror_mode": {
    "name": "ipython",
    "version": 3
   },
   "file_extension": ".py",
   "mimetype": "text/x-python",
   "name": "python",
   "nbconvert_exporter": "python",
   "pygments_lexer": "ipython3",
   "version": "3.12.5"
  },
  "orig_nbformat": 4
 },
 "nbformat": 4,
 "nbformat_minor": 2
}
