{
 "cells": [
  {
   "cell_type": "code",
   "execution_count": null,
   "metadata": {},
   "outputs": [],
   "source": [
    "import os, openai, json, llm_utils, re\n",
    "import pandas as pd\n",
    "from tqdm import tqdm\n",
    "from azure.storage.blob import BlobServiceClient\n",
    "from Arxiv_API import Arxiv_API\n",
    "from dotenv import load_dotenv\n",
    "\n",
    "load_dotenv()\n",
    "rootdir=os.getenv(\"rootdir\")\n",
    "gemini_key=os.getenv(\"gemini_key\")\n",
    "connection_str=os.getenv(\"connection_str\")\n",
    "\n",
    "blob_service_client = BlobServiceClient.from_connection_string(conn_str=connection_str)\n",
    "\n"
   ]
  },
  {
   "cell_type": "code",
   "execution_count": null,
   "metadata": {},
   "outputs": [],
   "source": [
    "# Download the PDF from Azure storage account\n",
    "with open(\"../SampleData/Data.pdf\", \"wb\") as pdf_file:\n",
    "        blob_data = blob_service_client.get_blob_client(container=\"samplepicture\", blob=f\"Data/Article_2306.00251v1.pdf\").download_blob()\n",
    "        pdf_file.write(blob_data.readall())\n",
    "\n",
    "\n",
    "# Or download pdf from Arxiv and save as metadata\n",
    "data=Arxiv_API(file_dir='../SampleData',search='Bayesian', start_date='2024-01-01', end_date='2024-11-30', start=0, max_results=2, downloadstuff=True).df"
   ]
  },
  {
   "cell_type": "code",
   "execution_count": 136,
   "metadata": {},
   "outputs": [
    {
     "data": {
      "text/html": [
       "<div>\n",
       "<style scoped>\n",
       "    .dataframe tbody tr th:only-of-type {\n",
       "        vertical-align: middle;\n",
       "    }\n",
       "\n",
       "    .dataframe tbody tr th {\n",
       "        vertical-align: top;\n",
       "    }\n",
       "\n",
       "    .dataframe thead th {\n",
       "        text-align: right;\n",
       "    }\n",
       "</style>\n",
       "<table border=\"1\" class=\"dataframe\">\n",
       "  <thead>\n",
       "    <tr style=\"text-align: right;\">\n",
       "      <th></th>\n",
       "      <th>ID</th>\n",
       "      <th>PublishDate</th>\n",
       "      <th>Title</th>\n",
       "      <th>Authors</th>\n",
       "      <th>Journal_Ref</th>\n",
       "      <th>Comment</th>\n",
       "      <th>Abstract</th>\n",
       "      <th>Content</th>\n",
       "      <th>Primary_Cat</th>\n",
       "      <th>Category</th>\n",
       "      <th>PDF_link</th>\n",
       "      <th>file_path</th>\n",
       "    </tr>\n",
       "  </thead>\n",
       "  <tbody>\n",
       "    <tr>\n",
       "      <th>0</th>\n",
       "      <td>1302.6659v1</td>\n",
       "      <td>2013-02-27T04:03:48Z</td>\n",
       "      <td>On randomized confidence intervals for the binomial probability</td>\n",
       "      <td>Paul Kabaila</td>\n",
       "      <td>No Journal_Ref</td>\n",
       "      <td>No Comment</td>\n",
       "      <td>Suppose that X_1,X_2,...,X_n are independent and identically Bernoulli(theta)\\ndistributed. Also...</td>\n",
       "      <td>arXiv:1302.6659v1  [math.ST]  27 Feb 2013On randomized conﬁdence intervals for the binomial\\npro...</td>\n",
       "      <td>math.ST</td>\n",
       "      <td>No Category</td>\n",
       "      <td>http://arxiv.org/pdf/1302.6659v1</td>\n",
       "      <td>../SampleData/Article_1302.6659v1.pdf</td>\n",
       "    </tr>\n",
       "    <tr>\n",
       "      <th>1</th>\n",
       "      <td>2106.11641v1</td>\n",
       "      <td>2021-06-22T09:49:23Z</td>\n",
       "      <td>Confidence-Aware Learning for Camouflaged Object Detection</td>\n",
       "      <td>Jiawei Liu, Jing Zhang, Nick Barnes</td>\n",
       "      <td>No Journal_Ref</td>\n",
       "      <td>No Comment</td>\n",
       "      <td>Confidence-aware learning is proven as an effective solution to prevent\\nnetworks becoming overc...</td>\n",
       "      <td>Conﬁdence-Aware Learning for Camouﬂaged Object Detection\\nJiawei Liu\\nANU\\njiawei.liu3@anu.edu.a...</td>\n",
       "      <td>cs.CV</td>\n",
       "      <td>No Category</td>\n",
       "      <td>http://arxiv.org/pdf/2106.11641v1</td>\n",
       "      <td>../SampleData/Article_2106.11641v1.pdf</td>\n",
       "    </tr>\n",
       "    <tr>\n",
       "      <th>2</th>\n",
       "      <td>1701.05455v1</td>\n",
       "      <td>2017-01-19T15:04:54Z</td>\n",
       "      <td>A Weighted Model Confidence Set: Applications to Local and Mixture Model\\n  Confidence Sets</td>\n",
       "      <td>Amir T. Payandeh Najafabadi, Ghobad Barmalzan, Shahla Aghaei</td>\n",
       "      <td>No Journal_Ref</td>\n",
       "      <td>No Comment</td>\n",
       "      <td>This article provides a weighted model confidence set, whenever underling\\nmodel has been misspe...</td>\n",
       "      <td>arXiv:1701.05455v1  [stat.AP]  19 Jan 2017A Weighted Model Conﬁdence Set: Applications to Local ...</td>\n",
       "      <td>stat.AP</td>\n",
       "      <td>No Category</td>\n",
       "      <td>http://arxiv.org/pdf/1701.05455v1</td>\n",
       "      <td>../SampleData/Article_1701.05455v1.pdf</td>\n",
       "    </tr>\n",
       "    <tr>\n",
       "      <th>3</th>\n",
       "      <td>2202.05957v1</td>\n",
       "      <td>2022-02-12T02:26:46Z</td>\n",
       "      <td>Confident AI</td>\n",
       "      <td>Jim Davis</td>\n",
       "      <td>No Journal_Ref</td>\n",
       "      <td>No Comment</td>\n",
       "      <td>In this paper, we propose \"Confident AI\" as a means to designing Artificial\\nIntelligence (AI) a...</td>\n",
       "      <td>Con\fdent AI\\nJim Davis\\nDept. Computer Science and Engineering\\nOhio State University\\nColumbus ...</td>\n",
       "      <td>cs.AI</td>\n",
       "      <td>No Category</td>\n",
       "      <td>http://arxiv.org/pdf/2202.05957v1</td>\n",
       "      <td>../SampleData/Article_2202.05957v1.pdf</td>\n",
       "    </tr>\n",
       "    <tr>\n",
       "      <th>4</th>\n",
       "      <td>0601346v1</td>\n",
       "      <td>2006-01-14T10:54:32Z</td>\n",
       "      <td>Simultaneous confidence bands for the integrated hazard function</td>\n",
       "      <td>Anna Dudek, Maciej Gocwin, Jacek Leskow</td>\n",
       "      <td>No Journal_Ref</td>\n",
       "      <td>15 pages, 4 figures</td>\n",
       "      <td>The construction of the simultaneous confidence bands for the integrated\\nhazard function is con...</td>\n",
       "      <td>arXiv:math/0601346v1  [math.ST]  14 Jan 2006Simultaneous conﬁdence bands for the integrated haza...</td>\n",
       "      <td>math.ST</td>\n",
       "      <td>No Category</td>\n",
       "      <td>http://arxiv.org/pdf/math/0601346v1</td>\n",
       "      <td>../SampleData/Article_0601346v1.pdf</td>\n",
       "    </tr>\n",
       "  </tbody>\n",
       "</table>\n",
       "</div>"
      ],
      "text/plain": [
       "             ID           PublishDate  \\\n",
       "0   1302.6659v1  2013-02-27T04:03:48Z   \n",
       "1  2106.11641v1  2021-06-22T09:49:23Z   \n",
       "2  1701.05455v1  2017-01-19T15:04:54Z   \n",
       "3  2202.05957v1  2022-02-12T02:26:46Z   \n",
       "4     0601346v1  2006-01-14T10:54:32Z   \n",
       "\n",
       "                                                                                         Title  \\\n",
       "0                              On randomized confidence intervals for the binomial probability   \n",
       "1                                   Confidence-Aware Learning for Camouflaged Object Detection   \n",
       "2  A Weighted Model Confidence Set: Applications to Local and Mixture Model\\n  Confidence Sets   \n",
       "3                                                                                 Confident AI   \n",
       "4                             Simultaneous confidence bands for the integrated hazard function   \n",
       "\n",
       "                                                        Authors  \\\n",
       "0                                                  Paul Kabaila   \n",
       "1                           Jiawei Liu, Jing Zhang, Nick Barnes   \n",
       "2  Amir T. Payandeh Najafabadi, Ghobad Barmalzan, Shahla Aghaei   \n",
       "3                                                     Jim Davis   \n",
       "4                       Anna Dudek, Maciej Gocwin, Jacek Leskow   \n",
       "\n",
       "      Journal_Ref              Comment  \\\n",
       "0  No Journal_Ref           No Comment   \n",
       "1  No Journal_Ref           No Comment   \n",
       "2  No Journal_Ref           No Comment   \n",
       "3  No Journal_Ref           No Comment   \n",
       "4  No Journal_Ref  15 pages, 4 figures   \n",
       "\n",
       "                                                                                              Abstract  \\\n",
       "0  Suppose that X_1,X_2,...,X_n are independent and identically Bernoulli(theta)\\ndistributed. Also...   \n",
       "1  Confidence-aware learning is proven as an effective solution to prevent\\nnetworks becoming overc...   \n",
       "2  This article provides a weighted model confidence set, whenever underling\\nmodel has been misspe...   \n",
       "3  In this paper, we propose \"Confident AI\" as a means to designing Artificial\\nIntelligence (AI) a...   \n",
       "4  The construction of the simultaneous confidence bands for the integrated\\nhazard function is con...   \n",
       "\n",
       "                                                                                               Content  \\\n",
       "0  arXiv:1302.6659v1  [math.ST]  27 Feb 2013On randomized conﬁdence intervals for the binomial\\npro...   \n",
       "1  Conﬁdence-Aware Learning for Camouﬂaged Object Detection\\nJiawei Liu\\nANU\\njiawei.liu3@anu.edu.a...   \n",
       "2  arXiv:1701.05455v1  [stat.AP]  19 Jan 2017A Weighted Model Conﬁdence Set: Applications to Local ...   \n",
       "3  Con\n",
       "dent AI\\nJim Davis\\nDept. Computer Science and Engineering\\nOhio State University\\nColumbus ...   \n",
       "4  arXiv:math/0601346v1  [math.ST]  14 Jan 2006Simultaneous conﬁdence bands for the integrated haza...   \n",
       "\n",
       "  Primary_Cat     Category                             PDF_link  \\\n",
       "0     math.ST  No Category     http://arxiv.org/pdf/1302.6659v1   \n",
       "1       cs.CV  No Category    http://arxiv.org/pdf/2106.11641v1   \n",
       "2     stat.AP  No Category    http://arxiv.org/pdf/1701.05455v1   \n",
       "3       cs.AI  No Category    http://arxiv.org/pdf/2202.05957v1   \n",
       "4     math.ST  No Category  http://arxiv.org/pdf/math/0601346v1   \n",
       "\n",
       "                                file_path  \n",
       "0   ../SampleData/Article_1302.6659v1.pdf  \n",
       "1  ../SampleData/Article_2106.11641v1.pdf  \n",
       "2  ../SampleData/Article_1701.05455v1.pdf  \n",
       "3  ../SampleData/Article_2202.05957v1.pdf  \n",
       "4     ../SampleData/Article_0601346v1.pdf  "
      ]
     },
     "metadata": {},
     "output_type": "display_data"
    }
   ],
   "source": [
    "# Or load the data from metadata.json\n",
    "with open('../SampleData/metadata.json') as outfile:\n",
    "    outputs=json.load(outfile)\n",
    "\n",
    "metadata=pd.DataFrame(outputs)\n",
    "display(metadata)"
   ]
  },
  {
   "cell_type": "code",
   "execution_count": null,
   "metadata": {},
   "outputs": [],
   "source": [
    "def GetTitleAuthor_gpt():\n",
    "    engine=\"gpt-3.5-turbo\"\n",
    "    system_prompt = \"Please extract the title and author names:\"\n",
    "    system_prompt_tokens = llm_utils.count_tokens(text=system_prompt, engine=engine)\n",
    "\n",
    "    def getEachRes(row):\n",
    "        input_max_tokens = 100\n",
    "\n",
    "        raw_text = row['Content']\n",
    "        user_prompt = llm_utils.get_tokens_between_indices(\n",
    "            text=raw_text, \n",
    "            engine=engine, \n",
    "            max_tokens=input_max_tokens)\n",
    "        print(user_prompt)\n",
    "        \n",
    "        response=llm_utils.get_gpt_response(user_prompt=user_prompt, \n",
    "                                            system_prompt=system_prompt,\n",
    "                                            engine=engine,\n",
    "                                            max_completion=500)\n",
    "        print(\"ChatGPT Response:\", response)\n",
    "        return response\n",
    "\n",
    "    results = []\n",
    "    for i in tqdm(range(len(metadata)), desc=\"Processing rows\"):\n",
    "        row = metadata.iloc[i]\n",
    "        result = getEachRes(row)\n",
    "        results.append(result)\n",
    "\n",
    "    # After all rows are processed, write the accumulated results\n",
    "    with open(\"all_results.json\", 'w') as f:\n",
    "        json.dump(results, f)\n",
    "\n",
    "\n",
    "GetTitleAuthor_gpt()"
   ]
  },
  {
   "cell_type": "code",
   "execution_count": 137,
   "metadata": {},
   "outputs": [
    {
     "name": "stderr",
     "output_type": "stream",
     "text": [
      "Processing rows:  20%|██        | 1/5 [00:00<00:01,  2.17it/s]"
     ]
    },
    {
     "name": "stdout",
     "output_type": "stream",
     "text": [
      "Gemini response: Title: On randomized confidence intervals for the binomial probability\n",
      "\n",
      "Author: Paul Kabaila\n",
      "\n"
     ]
    },
    {
     "name": "stderr",
     "output_type": "stream",
     "text": [
      "Processing rows:  40%|████      | 2/5 [00:01<00:01,  1.68it/s]"
     ]
    },
    {
     "name": "stdout",
     "output_type": "stream",
     "text": [
      "Gemini response: **Title:** Confidence-Aware Learning for Camouflaged Object Detection\n",
      "\n",
      "**Authors:** Jiawei Liu, Jing Zhang, Nick Barnes\n",
      "\n"
     ]
    },
    {
     "name": "stderr",
     "output_type": "stream",
     "text": [
      "Processing rows:  60%|██████    | 3/5 [00:01<00:01,  1.60it/s]"
     ]
    },
    {
     "name": "stdout",
     "output_type": "stream",
     "text": [
      "Gemini response: **Title:** A Weighted Model Confidence Set: Applications to Local and Mixture Model Confidence Sets\n",
      "\n",
      "**Authors:** Amir.T. Payandeh Najafabadi, Ghobad Barmalzan, Shahla Aghaei\n",
      "\n"
     ]
    },
    {
     "name": "stderr",
     "output_type": "stream",
     "text": [
      "Processing rows:  80%|████████  | 4/5 [00:02<00:00,  1.88it/s]"
     ]
    },
    {
     "name": "stdout",
     "output_type": "stream",
     "text": [
      "Gemini response: Title: Confident AI\n",
      "\n",
      "Author: Jim Davis\n",
      "\n"
     ]
    },
    {
     "name": "stderr",
     "output_type": "stream",
     "text": [
      "Processing rows: 100%|██████████| 5/5 [00:02<00:00,  1.67it/s]"
     ]
    },
    {
     "name": "stdout",
     "output_type": "stream",
     "text": [
      "Gemini response: Title: Simultaneous confidence bands for the integrated hazard function\n",
      "\n",
      "Authors: Anna Dudek, Maciej Gołcwin, Jacek Leśkow\n",
      "\n"
     ]
    },
    {
     "name": "stderr",
     "output_type": "stream",
     "text": [
      "\n"
     ]
    }
   ],
   "source": [
    "def GetTitleAuthor_gemini(metadata):\n",
    "    user_prompt = \"Please extract the title and author names: \"\n",
    "\n",
    "    def getEachRes(row):\n",
    "        input_max_tokens = 1000\n",
    "        raw_text = row['Content']\n",
    "        response=llm_utils.get_gemini_response(user_prompt=user_prompt+raw_text[0:input_max_tokens], api_key=gemini_key)\n",
    "        \n",
    "        print(\"Gemini response:\", response)\n",
    "        return response\n",
    "\n",
    "    results = []\n",
    "    for i in tqdm(range(len(metadata)), desc=\"Processing rows\"):\n",
    "        row = metadata.iloc[i]\n",
    "        result = getEachRes(row)\n",
    "        results.append(result)\n",
    "\n",
    "    # After all rows are processed, write the accumulated results\n",
    "    with open(os.path.join(rootdir, \"results\", \"all_results.json\"), 'w') as f:\n",
    "        json.dump(results, f)\n",
    "\n",
    "\n",
    "GetTitleAuthor_gemini(metadata=metadata)"
   ]
  },
  {
   "cell_type": "code",
   "execution_count": 138,
   "metadata": {},
   "outputs": [
    {
     "data": {
      "text/plain": [
       "['Title: On randomized confidence intervals for the binomial probability\\n\\nAuthor: Paul Kabaila\\n',\n",
       " '**Title:** Confidence-Aware Learning for Camouflaged Object Detection\\n\\n**Authors:** Jiawei Liu, Jing Zhang, Nick Barnes\\n',\n",
       " '**Title:** A Weighted Model Confidence Set: Applications to Local and Mixture Model Confidence Sets\\n\\n**Authors:** Amir.T. Payandeh Najafabadi, Ghobad Barmalzan, Shahla Aghaei\\n',\n",
       " 'Title: Confident AI\\n\\nAuthor: Jim Davis\\n',\n",
       " 'Title: Simultaneous confidence bands for the integrated hazard function\\n\\nAuthors: Anna Dudek, Maciej Gołcwin, Jacek Leśkow\\n']"
      ]
     },
     "execution_count": 138,
     "metadata": {},
     "output_type": "execute_result"
    }
   ],
   "source": [
    "with open(os.path.join(rootdir, 'results', 'all_results.json')) as outfile:\n",
    "    outputs=json.load(outfile)\n",
    "\n",
    "outputs"
   ]
  },
  {
   "cell_type": "code",
   "execution_count": 139,
   "metadata": {},
   "outputs": [
    {
     "data": {
      "text/html": [
       "<div>\n",
       "<style scoped>\n",
       "    .dataframe tbody tr th:only-of-type {\n",
       "        vertical-align: middle;\n",
       "    }\n",
       "\n",
       "    .dataframe tbody tr th {\n",
       "        vertical-align: top;\n",
       "    }\n",
       "\n",
       "    .dataframe thead th {\n",
       "        text-align: right;\n",
       "    }\n",
       "</style>\n",
       "<table border=\"1\" class=\"dataframe\">\n",
       "  <thead>\n",
       "    <tr style=\"text-align: right;\">\n",
       "      <th></th>\n",
       "      <th>Title</th>\n",
       "      <th>Author</th>\n",
       "    </tr>\n",
       "  </thead>\n",
       "  <tbody>\n",
       "    <tr>\n",
       "      <th>0</th>\n",
       "      <td>On randomized confidence intervals for the binomial probability</td>\n",
       "      <td>Paul Kabaila</td>\n",
       "    </tr>\n",
       "    <tr>\n",
       "      <th>1</th>\n",
       "      <td>Confidence-Aware Learning for Camouflaged Object Detection</td>\n",
       "      <td>Jiawei Liu, Jing Zhang, Nick Barnes</td>\n",
       "    </tr>\n",
       "    <tr>\n",
       "      <th>2</th>\n",
       "      <td>A Weighted Model Confidence Set: Applications to Local and Mixture Model Confidence Sets</td>\n",
       "      <td>Amir.T. Payandeh Najafabadi, Ghobad Barmalzan, Shahla Aghaei</td>\n",
       "    </tr>\n",
       "    <tr>\n",
       "      <th>3</th>\n",
       "      <td>Confident AI</td>\n",
       "      <td>Jim Davis</td>\n",
       "    </tr>\n",
       "    <tr>\n",
       "      <th>4</th>\n",
       "      <td>Simultaneous confidence bands for the integrated hazard function</td>\n",
       "      <td>Anna Dudek, Maciej Gołcwin, Jacek Leśkow</td>\n",
       "    </tr>\n",
       "  </tbody>\n",
       "</table>\n",
       "</div>"
      ],
      "text/plain": [
       "                                                                                       Title  \\\n",
       "0                            On randomized confidence intervals for the binomial probability   \n",
       "1                                 Confidence-Aware Learning for Camouflaged Object Detection   \n",
       "2   A Weighted Model Confidence Set: Applications to Local and Mixture Model Confidence Sets   \n",
       "3                                                                               Confident AI   \n",
       "4                           Simultaneous confidence bands for the integrated hazard function   \n",
       "\n",
       "                                                          Author  \n",
       "0                                                   Paul Kabaila  \n",
       "1                            Jiawei Liu, Jing Zhang, Nick Barnes  \n",
       "2   Amir.T. Payandeh Najafabadi, Ghobad Barmalzan, Shahla Aghaei  \n",
       "3                                                      Jim Davis  \n",
       "4                       Anna Dudek, Maciej Gołcwin, Jacek Leśkow  "
      ]
     },
     "metadata": {},
     "output_type": "display_data"
    }
   ],
   "source": [
    "def parse_to_dict(string_list):\n",
    "    titles=[]\n",
    "    authors=[]\n",
    "    for string in string_list:\n",
    "        match_title = re.search(r\"Title:\\s*(.*?)\\n\", string)\n",
    "        if match_title:\n",
    "            titles.append(match_title.group(1).strip().strip(\"**\"))\n",
    "        \n",
    "        match_author = re.search(r\"(Author|Authors):\\s*(.*?)\\n\", string)\n",
    "        if match_author:\n",
    "            authors.append(match_author.group(2).strip().strip(\"**\"))\n",
    "\n",
    "    result={\"Title\": titles, \"Author\":authors}\n",
    "    return pd.DataFrame(result)\n",
    "\n",
    "output_dict = parse_to_dict(string_list=outputs)\n",
    "pd.set_option('display.max_colwidth', 100)\n",
    "display(output_dict)"
   ]
  }
 ],
 "metadata": {
  "kernelspec": {
   "display_name": "GPTVenv",
   "language": "python",
   "name": "python3"
  },
  "language_info": {
   "codemirror_mode": {
    "name": "ipython",
    "version": 3
   },
   "file_extension": ".py",
   "mimetype": "text/x-python",
   "name": "python",
   "nbconvert_exporter": "python",
   "pygments_lexer": "ipython3",
   "version": "3.12.5"
  },
  "orig_nbformat": 4
 },
 "nbformat": 4,
 "nbformat_minor": 2
}
