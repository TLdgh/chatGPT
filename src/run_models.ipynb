{
 "cells": [
  {
   "cell_type": "code",
   "execution_count": null,
   "metadata": {},
   "outputs": [],
   "source": [
    "import os, openai, json, llm_utils, re\n",
    "import pandas as pd\n",
    "from tqdm import tqdm\n",
    "from azure.storage.blob import BlobServiceClient\n",
    "from Arxiv_API import Arxiv_API\n",
    "from dotenv import load_dotenv\n",
    "\n",
    "load_dotenv()\n",
    "rootdir=os.getenv(\"rootdir\")\n",
    "gemini_key=os.getenv(\"gemini_key\")\n",
    "connection_str=os.getenv(\"connection_str\")\n",
    "\n",
    "blob_service_client = BlobServiceClient.from_connection_string(conn_str=connection_str)\n",
    "\n"
   ]
  },
  {
   "cell_type": "code",
   "execution_count": null,
   "metadata": {},
   "outputs": [],
   "source": [
    "# Download the PDF from Azure storage account\n",
    "with open(\"../SampleData/Data.pdf\", \"wb\") as pdf_file:\n",
    "        blob_data = blob_service_client.get_blob_client(container=\"samplepicture\", blob=f\"Data/Article_2306.00251v1.pdf\").download_blob()\n",
    "        pdf_file.write(blob_data.readall())\n",
    "\n",
    "\n",
    "# Or download pdf from Arxiv and save as metadata\n",
    "data=Arxiv_API(search=['math','physics','cs','econ','eess','q-bio','q-fin','stat'], start_date='2000-01-01', end_date='2024-12-31', start=0, max_results=50, downloadstuff=True).df"
   ]
  },
  {
   "cell_type": "code",
   "execution_count": 4,
   "metadata": {},
   "outputs": [
    {
     "data": {
      "text/html": [
       "<div>\n",
       "<style scoped>\n",
       "    .dataframe tbody tr th:only-of-type {\n",
       "        vertical-align: middle;\n",
       "    }\n",
       "\n",
       "    .dataframe tbody tr th {\n",
       "        vertical-align: top;\n",
       "    }\n",
       "\n",
       "    .dataframe thead th {\n",
       "        text-align: right;\n",
       "    }\n",
       "</style>\n",
       "<table border=\"1\" class=\"dataframe\">\n",
       "  <thead>\n",
       "    <tr style=\"text-align: right;\">\n",
       "      <th></th>\n",
       "      <th>ID</th>\n",
       "      <th>PublishDate</th>\n",
       "      <th>Title</th>\n",
       "      <th>Authors</th>\n",
       "      <th>Journal_Ref</th>\n",
       "      <th>Comment</th>\n",
       "      <th>Abstract</th>\n",
       "      <th>Content</th>\n",
       "      <th>Primary_Cat</th>\n",
       "      <th>Category</th>\n",
       "      <th>PDF_link</th>\n",
       "      <th>file_path</th>\n",
       "    </tr>\n",
       "  </thead>\n",
       "  <tbody>\n",
       "    <tr>\n",
       "      <th>0</th>\n",
       "      <td>9904016v1</td>\n",
       "      <td>1999-04-22T15:47:22Z</td>\n",
       "      <td>Brittle System Analysis</td>\n",
       "      <td>Stephen F. Bush, John Hershey, Kirby Vosburgh</td>\n",
       "      <td>No Journal_Ref</td>\n",
       "      <td>No Comment</td>\n",
       "      <td>The goal of this paper is to define and analyz...</td>\n",
       "      <td>arXiv:cs/9904016v1  [cs.NI]  22 Apr 1999BUSH, ...</td>\n",
       "      <td>cs.NI</td>\n",
       "      <td>No Category</td>\n",
       "      <td>http://arxiv.org/pdf/cs/9904016v1</td>\n",
       "      <td>/Users/tengli/Python/chatGPT/SampleData/cs/Art...</td>\n",
       "    </tr>\n",
       "    <tr>\n",
       "      <th>1</th>\n",
       "      <td>2501.06270v1</td>\n",
       "      <td>2025-01-09T19:38:21Z</td>\n",
       "      <td>Sectorial Exclusion Criteria in the Marxist An...</td>\n",
       "      <td>Jose Mauricio Gomez Julian</td>\n",
       "      <td>No Journal_Ref</td>\n",
       "      <td>No Comment</td>\n",
       "      <td>The long-term estimation of the Marxist averag...</td>\n",
       "      <td>1SECTORIAL EXCLUSION CRITERIA IN THE MARXIST A...</td>\n",
       "      <td>econ.GN</td>\n",
       "      <td>No Category</td>\n",
       "      <td>http://arxiv.org/pdf/2501.06270v1</td>\n",
       "      <td>/Users/tengli/Python/chatGPT/SampleData/econ/A...</td>\n",
       "    </tr>\n",
       "    <tr>\n",
       "      <th>2</th>\n",
       "      <td>1907.05351v1</td>\n",
       "      <td>2019-07-11T16:19:19Z</td>\n",
       "      <td>Optimized Sharing of Coefficients in Parallel ...</td>\n",
       "      <td>M. Tunç Arslan, Onur Yorulmaz, Erdinç L. Atılgan</td>\n",
       "      <td>No Journal_Ref</td>\n",
       "      <td>10 pages, submitted to IEEE Transactions on Si...</td>\n",
       "      <td>Filters are the basic and most important block...</td>\n",
       "      <td>1\\nOptimized Sharing of Coefﬁcients in Paralle...</td>\n",
       "      <td>eess.SP</td>\n",
       "      <td>No Category</td>\n",
       "      <td>http://arxiv.org/pdf/1907.05351v1</td>\n",
       "      <td>/Users/tengli/Python/chatGPT/SampleData/eess/A...</td>\n",
       "    </tr>\n",
       "    <tr>\n",
       "      <th>3</th>\n",
       "      <td>2408.05119v1</td>\n",
       "      <td>2024-08-09T15:17:42Z</td>\n",
       "      <td>Acto-myosin clusters as active units shaping l...</td>\n",
       "      <td>Karsten Kruse, Rémi Berthoz, Luca Barberi, Ann...</td>\n",
       "      <td>No Journal_Ref</td>\n",
       "      <td>No Comment</td>\n",
       "      <td>Stress generation by the actin cytoskeleton sh...</td>\n",
       "      <td>1 Acto -myosin  clusters  as active  units  sh...</td>\n",
       "      <td>q-bio.TO</td>\n",
       "      <td>No Category</td>\n",
       "      <td>http://arxiv.org/pdf/2408.05119v1</td>\n",
       "      <td>/Users/tengli/Python/chatGPT/SampleData/q-bio/...</td>\n",
       "    </tr>\n",
       "    <tr>\n",
       "      <th>4</th>\n",
       "      <td>2206.09877v1</td>\n",
       "      <td>2022-06-20T16:29:08Z</td>\n",
       "      <td>Efficient Pricing and Calibration of High-Dime...</td>\n",
       "      <td>Lech A. Grzelak, Juliusz Jablecki, Dariusz Gat...</td>\n",
       "      <td>No Journal_Ref</td>\n",
       "      <td>23 pages, 21 figures</td>\n",
       "      <td>This paper studies equity basket options -- i....</td>\n",
       "      <td>E\u000ecient Pricing and Calibration of High-Dimens...</td>\n",
       "      <td>q-fin.CP</td>\n",
       "      <td>No Category</td>\n",
       "      <td>http://arxiv.org/pdf/2206.09877v1</td>\n",
       "      <td>/Users/tengli/Python/chatGPT/SampleData/q-fin/...</td>\n",
       "    </tr>\n",
       "    <tr>\n",
       "      <th>5</th>\n",
       "      <td>1211.1183v2</td>\n",
       "      <td>2012-11-06T11:26:30Z</td>\n",
       "      <td>KernSmoothIRT: An R Package for Kernel Smoothi...</td>\n",
       "      <td>Angelo Mazza, Antonio Punzo, Brian McGuire</td>\n",
       "      <td>No Journal_Ref</td>\n",
       "      <td>No Comment</td>\n",
       "      <td>Item response theory (IRT) models are a class ...</td>\n",
       "      <td>JSS\\nKernSmoothIRT : AnRPackage for Kernel\\nSm...</td>\n",
       "      <td>stat.CO</td>\n",
       "      <td>No Category</td>\n",
       "      <td>http://arxiv.org/pdf/1211.1183v2</td>\n",
       "      <td>/Users/tengli/Python/chatGPT/SampleData/stat/A...</td>\n",
       "    </tr>\n",
       "  </tbody>\n",
       "</table>\n",
       "</div>"
      ],
      "text/plain": [
       "             ID           PublishDate  \\\n",
       "0     9904016v1  1999-04-22T15:47:22Z   \n",
       "1  2501.06270v1  2025-01-09T19:38:21Z   \n",
       "2  1907.05351v1  2019-07-11T16:19:19Z   \n",
       "3  2408.05119v1  2024-08-09T15:17:42Z   \n",
       "4  2206.09877v1  2022-06-20T16:29:08Z   \n",
       "5   1211.1183v2  2012-11-06T11:26:30Z   \n",
       "\n",
       "                                               Title  \\\n",
       "0                            Brittle System Analysis   \n",
       "1  Sectorial Exclusion Criteria in the Marxist An...   \n",
       "2  Optimized Sharing of Coefficients in Parallel ...   \n",
       "3  Acto-myosin clusters as active units shaping l...   \n",
       "4  Efficient Pricing and Calibration of High-Dime...   \n",
       "5  KernSmoothIRT: An R Package for Kernel Smoothi...   \n",
       "\n",
       "                                             Authors     Journal_Ref  \\\n",
       "0      Stephen F. Bush, John Hershey, Kirby Vosburgh  No Journal_Ref   \n",
       "1                         Jose Mauricio Gomez Julian  No Journal_Ref   \n",
       "2   M. Tunç Arslan, Onur Yorulmaz, Erdinç L. Atılgan  No Journal_Ref   \n",
       "3  Karsten Kruse, Rémi Berthoz, Luca Barberi, Ann...  No Journal_Ref   \n",
       "4  Lech A. Grzelak, Juliusz Jablecki, Dariusz Gat...  No Journal_Ref   \n",
       "5         Angelo Mazza, Antonio Punzo, Brian McGuire  No Journal_Ref   \n",
       "\n",
       "                                             Comment  \\\n",
       "0                                         No Comment   \n",
       "1                                         No Comment   \n",
       "2  10 pages, submitted to IEEE Transactions on Si...   \n",
       "3                                         No Comment   \n",
       "4                               23 pages, 21 figures   \n",
       "5                                         No Comment   \n",
       "\n",
       "                                            Abstract  \\\n",
       "0  The goal of this paper is to define and analyz...   \n",
       "1  The long-term estimation of the Marxist averag...   \n",
       "2  Filters are the basic and most important block...   \n",
       "3  Stress generation by the actin cytoskeleton sh...   \n",
       "4  This paper studies equity basket options -- i....   \n",
       "5  Item response theory (IRT) models are a class ...   \n",
       "\n",
       "                                             Content Primary_Cat     Category  \\\n",
       "0  arXiv:cs/9904016v1  [cs.NI]  22 Apr 1999BUSH, ...       cs.NI  No Category   \n",
       "1  1SECTORIAL EXCLUSION CRITERIA IN THE MARXIST A...     econ.GN  No Category   \n",
       "2  1\\nOptimized Sharing of Coefﬁcients in Paralle...     eess.SP  No Category   \n",
       "3  1 Acto -myosin  clusters  as active  units  sh...    q-bio.TO  No Category   \n",
       "4  E\u000ecient Pricing and Calibration of High-Dimens...    q-fin.CP  No Category   \n",
       "5  JSS\\nKernSmoothIRT : AnRPackage for Kernel\\nSm...     stat.CO  No Category   \n",
       "\n",
       "                            PDF_link  \\\n",
       "0  http://arxiv.org/pdf/cs/9904016v1   \n",
       "1  http://arxiv.org/pdf/2501.06270v1   \n",
       "2  http://arxiv.org/pdf/1907.05351v1   \n",
       "3  http://arxiv.org/pdf/2408.05119v1   \n",
       "4  http://arxiv.org/pdf/2206.09877v1   \n",
       "5   http://arxiv.org/pdf/1211.1183v2   \n",
       "\n",
       "                                           file_path  \n",
       "0  /Users/tengli/Python/chatGPT/SampleData/cs/Art...  \n",
       "1  /Users/tengli/Python/chatGPT/SampleData/econ/A...  \n",
       "2  /Users/tengli/Python/chatGPT/SampleData/eess/A...  \n",
       "3  /Users/tengli/Python/chatGPT/SampleData/q-bio/...  \n",
       "4  /Users/tengli/Python/chatGPT/SampleData/q-fin/...  \n",
       "5  /Users/tengli/Python/chatGPT/SampleData/stat/A...  "
      ]
     },
     "metadata": {},
     "output_type": "display_data"
    }
   ],
   "source": [
    "# Or load the data from metadata.json\n",
    "with open('../SampleData/metadata.json') as outfile:\n",
    "    outputs=json.load(outfile)\n",
    "\n",
    "metadata=pd.DataFrame(outputs)\n",
    "display(metadata)"
   ]
  },
  {
   "cell_type": "code",
   "execution_count": null,
   "metadata": {},
   "outputs": [],
   "source": [
    "def GetTitleAuthor_gpt():\n",
    "    engine=\"gpt-3.5-turbo\"\n",
    "    system_prompt = \"Please extract the title and author names:\"\n",
    "    system_prompt_tokens = llm_utils.count_tokens(text=system_prompt, engine=engine)\n",
    "\n",
    "    def getEachRes(row):\n",
    "        input_max_tokens = 100\n",
    "\n",
    "        raw_text = row['Content']\n",
    "        user_prompt = llm_utils.get_tokens_between_indices(\n",
    "            text=raw_text, \n",
    "            engine=engine, \n",
    "            max_tokens=input_max_tokens)\n",
    "        print(user_prompt)\n",
    "        \n",
    "        response=llm_utils.get_gpt_response(user_prompt=user_prompt, \n",
    "                                            system_prompt=system_prompt,\n",
    "                                            engine=engine,\n",
    "                                            max_completion=500)\n",
    "        print(\"ChatGPT Response:\", response)\n",
    "        return response\n",
    "\n",
    "    results = []\n",
    "    for i in tqdm(range(len(metadata)), desc=\"Processing rows\"):\n",
    "        row = metadata.iloc[i]\n",
    "        result = getEachRes(row)\n",
    "        results.append(result)\n",
    "\n",
    "    # After all rows are processed, write the accumulated results\n",
    "    with open(\"all_results.json\", 'w') as f:\n",
    "        json.dump(results, f)\n",
    "\n",
    "\n",
    "GetTitleAuthor_gpt()"
   ]
  },
  {
   "cell_type": "code",
   "execution_count": 137,
   "metadata": {},
   "outputs": [
    {
     "name": "stderr",
     "output_type": "stream",
     "text": [
      "Processing rows:  20%|██        | 1/5 [00:00<00:01,  2.17it/s]"
     ]
    },
    {
     "name": "stdout",
     "output_type": "stream",
     "text": [
      "Gemini response: Title: On randomized confidence intervals for the binomial probability\n",
      "\n",
      "Author: Paul Kabaila\n",
      "\n"
     ]
    },
    {
     "name": "stderr",
     "output_type": "stream",
     "text": [
      "Processing rows:  40%|████      | 2/5 [00:01<00:01,  1.68it/s]"
     ]
    },
    {
     "name": "stdout",
     "output_type": "stream",
     "text": [
      "Gemini response: **Title:** Confidence-Aware Learning for Camouflaged Object Detection\n",
      "\n",
      "**Authors:** Jiawei Liu, Jing Zhang, Nick Barnes\n",
      "\n"
     ]
    },
    {
     "name": "stderr",
     "output_type": "stream",
     "text": [
      "Processing rows:  60%|██████    | 3/5 [00:01<00:01,  1.60it/s]"
     ]
    },
    {
     "name": "stdout",
     "output_type": "stream",
     "text": [
      "Gemini response: **Title:** A Weighted Model Confidence Set: Applications to Local and Mixture Model Confidence Sets\n",
      "\n",
      "**Authors:** Amir.T. Payandeh Najafabadi, Ghobad Barmalzan, Shahla Aghaei\n",
      "\n"
     ]
    },
    {
     "name": "stderr",
     "output_type": "stream",
     "text": [
      "Processing rows:  80%|████████  | 4/5 [00:02<00:00,  1.88it/s]"
     ]
    },
    {
     "name": "stdout",
     "output_type": "stream",
     "text": [
      "Gemini response: Title: Confident AI\n",
      "\n",
      "Author: Jim Davis\n",
      "\n"
     ]
    },
    {
     "name": "stderr",
     "output_type": "stream",
     "text": [
      "Processing rows: 100%|██████████| 5/5 [00:02<00:00,  1.67it/s]"
     ]
    },
    {
     "name": "stdout",
     "output_type": "stream",
     "text": [
      "Gemini response: Title: Simultaneous confidence bands for the integrated hazard function\n",
      "\n",
      "Authors: Anna Dudek, Maciej Gołcwin, Jacek Leśkow\n",
      "\n"
     ]
    },
    {
     "name": "stderr",
     "output_type": "stream",
     "text": [
      "\n"
     ]
    }
   ],
   "source": [
    "def GetTitleAuthor_gemini(metadata):\n",
    "    user_prompt = \"Please extract the title and author names: \"\n",
    "\n",
    "    def getEachRes(row):\n",
    "        input_max_tokens = 1000\n",
    "        raw_text = row['Content']\n",
    "        response=llm_utils.get_gemini_response(user_prompt=user_prompt+raw_text[0:input_max_tokens], api_key=gemini_key)\n",
    "        \n",
    "        print(\"Gemini response:\", response)\n",
    "        return response\n",
    "\n",
    "    results = []\n",
    "    for i in tqdm(range(len(metadata)), desc=\"Processing rows\"):\n",
    "        row = metadata.iloc[i]\n",
    "        result = getEachRes(row)\n",
    "        results.append(result)\n",
    "\n",
    "    # After all rows are processed, write the accumulated results\n",
    "    with open(os.path.join(rootdir, \"results\", \"all_results.json\"), 'w') as f:\n",
    "        json.dump(results, f)\n",
    "\n",
    "\n",
    "GetTitleAuthor_gemini(metadata=metadata)"
   ]
  },
  {
   "cell_type": "code",
   "execution_count": 138,
   "metadata": {},
   "outputs": [
    {
     "data": {
      "text/plain": [
       "['Title: On randomized confidence intervals for the binomial probability\\n\\nAuthor: Paul Kabaila\\n',\n",
       " '**Title:** Confidence-Aware Learning for Camouflaged Object Detection\\n\\n**Authors:** Jiawei Liu, Jing Zhang, Nick Barnes\\n',\n",
       " '**Title:** A Weighted Model Confidence Set: Applications to Local and Mixture Model Confidence Sets\\n\\n**Authors:** Amir.T. Payandeh Najafabadi, Ghobad Barmalzan, Shahla Aghaei\\n',\n",
       " 'Title: Confident AI\\n\\nAuthor: Jim Davis\\n',\n",
       " 'Title: Simultaneous confidence bands for the integrated hazard function\\n\\nAuthors: Anna Dudek, Maciej Gołcwin, Jacek Leśkow\\n']"
      ]
     },
     "execution_count": 138,
     "metadata": {},
     "output_type": "execute_result"
    }
   ],
   "source": [
    "with open(os.path.join(rootdir, 'results', 'all_results.json')) as outfile:\n",
    "    outputs=json.load(outfile)\n",
    "\n",
    "outputs"
   ]
  },
  {
   "cell_type": "code",
   "execution_count": 139,
   "metadata": {},
   "outputs": [
    {
     "data": {
      "text/html": [
       "<div>\n",
       "<style scoped>\n",
       "    .dataframe tbody tr th:only-of-type {\n",
       "        vertical-align: middle;\n",
       "    }\n",
       "\n",
       "    .dataframe tbody tr th {\n",
       "        vertical-align: top;\n",
       "    }\n",
       "\n",
       "    .dataframe thead th {\n",
       "        text-align: right;\n",
       "    }\n",
       "</style>\n",
       "<table border=\"1\" class=\"dataframe\">\n",
       "  <thead>\n",
       "    <tr style=\"text-align: right;\">\n",
       "      <th></th>\n",
       "      <th>Title</th>\n",
       "      <th>Author</th>\n",
       "    </tr>\n",
       "  </thead>\n",
       "  <tbody>\n",
       "    <tr>\n",
       "      <th>0</th>\n",
       "      <td>On randomized confidence intervals for the binomial probability</td>\n",
       "      <td>Paul Kabaila</td>\n",
       "    </tr>\n",
       "    <tr>\n",
       "      <th>1</th>\n",
       "      <td>Confidence-Aware Learning for Camouflaged Object Detection</td>\n",
       "      <td>Jiawei Liu, Jing Zhang, Nick Barnes</td>\n",
       "    </tr>\n",
       "    <tr>\n",
       "      <th>2</th>\n",
       "      <td>A Weighted Model Confidence Set: Applications to Local and Mixture Model Confidence Sets</td>\n",
       "      <td>Amir.T. Payandeh Najafabadi, Ghobad Barmalzan, Shahla Aghaei</td>\n",
       "    </tr>\n",
       "    <tr>\n",
       "      <th>3</th>\n",
       "      <td>Confident AI</td>\n",
       "      <td>Jim Davis</td>\n",
       "    </tr>\n",
       "    <tr>\n",
       "      <th>4</th>\n",
       "      <td>Simultaneous confidence bands for the integrated hazard function</td>\n",
       "      <td>Anna Dudek, Maciej Gołcwin, Jacek Leśkow</td>\n",
       "    </tr>\n",
       "  </tbody>\n",
       "</table>\n",
       "</div>"
      ],
      "text/plain": [
       "                                                                                       Title  \\\n",
       "0                            On randomized confidence intervals for the binomial probability   \n",
       "1                                 Confidence-Aware Learning for Camouflaged Object Detection   \n",
       "2   A Weighted Model Confidence Set: Applications to Local and Mixture Model Confidence Sets   \n",
       "3                                                                               Confident AI   \n",
       "4                           Simultaneous confidence bands for the integrated hazard function   \n",
       "\n",
       "                                                          Author  \n",
       "0                                                   Paul Kabaila  \n",
       "1                            Jiawei Liu, Jing Zhang, Nick Barnes  \n",
       "2   Amir.T. Payandeh Najafabadi, Ghobad Barmalzan, Shahla Aghaei  \n",
       "3                                                      Jim Davis  \n",
       "4                       Anna Dudek, Maciej Gołcwin, Jacek Leśkow  "
      ]
     },
     "metadata": {},
     "output_type": "display_data"
    }
   ],
   "source": [
    "def parse_to_dict(string_list):\n",
    "    titles=[]\n",
    "    authors=[]\n",
    "    for string in string_list:\n",
    "        match_title = re.search(r\"Title:\\s*(.*?)\\n\", string)\n",
    "        if match_title:\n",
    "            titles.append(match_title.group(1).strip().strip(\"**\"))\n",
    "        \n",
    "        match_author = re.search(r\"(Author|Authors):\\s*(.*?)\\n\", string)\n",
    "        if match_author:\n",
    "            authors.append(match_author.group(2).strip().strip(\"**\"))\n",
    "\n",
    "    result={\"Title\": titles, \"Author\":authors}\n",
    "    return pd.DataFrame(result)\n",
    "\n",
    "output_dict = parse_to_dict(string_list=outputs)\n",
    "pd.set_option('display.max_colwidth', 100)\n",
    "display(output_dict)"
   ]
  }
 ],
 "metadata": {
  "kernelspec": {
   "display_name": "GPTVenv",
   "language": "python",
   "name": "python3"
  },
  "language_info": {
   "codemirror_mode": {
    "name": "ipython",
    "version": 3
   },
   "file_extension": ".py",
   "mimetype": "text/x-python",
   "name": "python",
   "nbconvert_exporter": "python",
   "pygments_lexer": "ipython3",
   "version": "3.12.5"
  },
  "orig_nbformat": 4
 },
 "nbformat": 4,
 "nbformat_minor": 2
}
