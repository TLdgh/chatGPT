{
 "cells": [
  {
   "cell_type": "code",
   "execution_count": 1,
   "metadata": {},
   "outputs": [
    {
     "name": "stderr",
     "output_type": "stream",
     "text": [
      "/Users/tengli/Python/chatGPT/LLMVenv/lib/python3.13/site-packages/tqdm/auto.py:21: TqdmWarning: IProgress not found. Please update jupyter and ipywidgets. See https://ipywidgets.readthedocs.io/en/stable/user_install.html\n",
      "  from .autonotebook import tqdm as notebook_tqdm\n"
     ]
    }
   ],
   "source": [
    "import os, json, llm_utils, config\n",
    "import pandas as pd\n",
    "from tqdm import tqdm\n",
    "from azure.storage.blob import BlobServiceClient\n",
    "from Arxiv_API import Arxiv_API\n",
    "\n",
    "keys=config.get_all_variables()\n",
    "rootdir=keys['rootdir']\n",
    "gemini_key=keys['gemini_key']\n",
    "connection_str=keys['connection_str']"
   ]
  },
  {
   "cell_type": "markdown",
   "metadata": {},
   "source": [
    "# Data Collection"
   ]
  },
  {
   "cell_type": "code",
   "execution_count": null,
   "metadata": {},
   "outputs": [],
   "source": [
    "# Download the PDF from Azure storage account\n",
    "blob_service_client = BlobServiceClient.from_connection_string(conn_str=connection_str)\n",
    "\n",
    "with open(\"../SampleData/Data.pdf\", \"wb\") as pdf_file:\n",
    "        blob_data = blob_service_client.get_blob_client(container=\"samplepicture\", blob=f\"Data/Article_2306.00251v1.pdf\").download_blob()\n",
    "        pdf_file.write(blob_data.readall())"
   ]
  },
  {
   "cell_type": "code",
   "execution_count": null,
   "metadata": {},
   "outputs": [],
   "source": [
    "# Or download pdf from Arxiv and save as metadata\n",
    "data=Arxiv_API(search=['math','physics','cs','econ','eess','q-bio','q-fin','stat'], start_date='2000-01-01', end_date='2024-12-31', start=0, sampling_unit_size=50, max_results=100, downloadstuff=True).df"
   ]
  },
  {
   "cell_type": "code",
   "execution_count": 2,
   "metadata": {},
   "outputs": [
    {
     "data": {
      "text/html": [
       "<div>\n",
       "<style scoped>\n",
       "    .dataframe tbody tr th:only-of-type {\n",
       "        vertical-align: middle;\n",
       "    }\n",
       "\n",
       "    .dataframe tbody tr th {\n",
       "        vertical-align: top;\n",
       "    }\n",
       "\n",
       "    .dataframe thead th {\n",
       "        text-align: right;\n",
       "    }\n",
       "</style>\n",
       "<table border=\"1\" class=\"dataframe\">\n",
       "  <thead>\n",
       "    <tr style=\"text-align: right;\">\n",
       "      <th></th>\n",
       "      <th>ID</th>\n",
       "      <th>PublishDate</th>\n",
       "      <th>Title</th>\n",
       "      <th>Authors</th>\n",
       "      <th>Journal_Ref</th>\n",
       "      <th>Comment</th>\n",
       "      <th>Abstract</th>\n",
       "      <th>Content</th>\n",
       "      <th>Primary_Cat</th>\n",
       "      <th>Category</th>\n",
       "      <th>PDF_link</th>\n",
       "      <th>file_path</th>\n",
       "    </tr>\n",
       "  </thead>\n",
       "  <tbody>\n",
       "    <tr>\n",
       "      <th>0</th>\n",
       "      <td>2305.09528v1</td>\n",
       "      <td>2022-10-02T11:45:44Z</td>\n",
       "      <td>German to Spanish translation of Einstein's wo...</td>\n",
       "      <td>Enrique M. Padilla, Birgit L. Emberger, Manuel...</td>\n",
       "      <td>No Journal_Ref</td>\n",
       "      <td>No Comment</td>\n",
       "      <td>In 1926 Albert Einstein gave a clear explanati...</td>\n",
       "      <td>German to Spanish translation of Einstein's wo...</td>\n",
       "      <td>physics.hist-ph</td>\n",
       "      <td>No Category</td>\n",
       "      <td>http://arxiv.org/pdf/2305.09528v1</td>\n",
       "      <td>/Users/tengli/Python/chatGPT/SampleData/physic...</td>\n",
       "    </tr>\n",
       "  </tbody>\n",
       "</table>\n",
       "</div>"
      ],
      "text/plain": [
       "             ID           PublishDate  \\\n",
       "0  2305.09528v1  2022-10-02T11:45:44Z   \n",
       "\n",
       "                                               Title  \\\n",
       "0  German to Spanish translation of Einstein's wo...   \n",
       "\n",
       "                                             Authors     Journal_Ref  \\\n",
       "0  Enrique M. Padilla, Birgit L. Emberger, Manuel...  No Journal_Ref   \n",
       "\n",
       "      Comment                                           Abstract  \\\n",
       "0  No Comment  In 1926 Albert Einstein gave a clear explanati...   \n",
       "\n",
       "                                             Content      Primary_Cat  \\\n",
       "0  German to Spanish translation of Einstein's wo...  physics.hist-ph   \n",
       "\n",
       "      Category                           PDF_link  \\\n",
       "0  No Category  http://arxiv.org/pdf/2305.09528v1   \n",
       "\n",
       "                                           file_path  \n",
       "0  /Users/tengli/Python/chatGPT/SampleData/physic...  "
      ]
     },
     "metadata": {},
     "output_type": "display_data"
    }
   ],
   "source": [
    "# Or load the data from metadata.json\n",
    "with open('../SampleData/metadata.json') as outfile:\n",
    "    outputs=json.load(outfile)\n",
    "\n",
    "metadata=pd.DataFrame(outputs)\n",
    "display(metadata.iloc[0:1,])"
   ]
  },
  {
   "cell_type": "markdown",
   "metadata": {},
   "source": [
    "# Define functions to run models"
   ]
  },
  {
   "cell_type": "code",
   "execution_count": 16,
   "metadata": {},
   "outputs": [],
   "source": [
    "\n",
    "def getEachRes(user_prompt,row):\n",
    "        input_max_tokens = 100\n",
    "        raw_text = user_prompt.format(row['Content'][0:input_max_tokens])\n",
    "        return raw_text\n",
    "\n",
    "\n",
    "\n",
    "def GetTitleAuthor_gpt():\n",
    "    engine=\"gpt-3.5-turbo\"\n",
    "    system_prompt = \"Please extract the title and author names:\"\n",
    "    system_prompt_tokens = llm_utils.count_tokens(text=system_prompt, engine=engine)\n",
    "\n",
    "    def getEachRes(row):\n",
    "        input_max_tokens = 100\n",
    "\n",
    "        raw_text = row['Content']\n",
    "        user_prompt = llm_utils.get_tokens_between_indices(\n",
    "            text=raw_text, \n",
    "            engine=engine, \n",
    "            max_tokens=input_max_tokens)\n",
    "        print(user_prompt)\n",
    "        \n",
    "        response=llm_utils.get_gpt_response(user_prompt=user_prompt, \n",
    "                                            system_prompt=system_prompt,\n",
    "                                            engine=engine,\n",
    "                                            max_completion=500)\n",
    "        print(\"ChatGPT Response:\", response)\n",
    "        return response\n",
    "\n",
    "    results = []\n",
    "    for i in tqdm(range(len(metadata)), desc=\"Processing rows\"):\n",
    "        row = metadata.iloc[i]\n",
    "        result = getEachRes(row)\n",
    "        results.append(result)\n",
    "\n",
    "    # After all rows are processed, write the accumulated results\n",
    "    with open(\"all_results.json\", 'w') as f:\n",
    "        json.dump(results, f)\n",
    "\n",
    "\n",
    "\n",
    "def GetTitleAuthor_gemini(metadata, user_prompt, api_key):\n",
    "    results = []\n",
    "    for i in tqdm(range(len(metadata)), desc=\"Processing rows\"):\n",
    "        row = metadata.iloc[i]\n",
    "        raw_text = getEachRes(user_prompt, row)\n",
    "        result=llm_utils.get_gemini_response(user_prompt=raw_text, api_key=api_key)\n",
    "        result=json.loads(result)\n",
    "        #print(result)\n",
    "        results+=result\n",
    "\n",
    "    # After all rows are processed, write the accumulated results\n",
    "    with open(os.path.join(rootdir, \"results\", \"gemini_results.json\"), 'w') as f:\n",
    "        json.dump(results, f)\n",
    "\n",
    "\n",
    "\n",
    "def GetTitleAuthor_llama(metadata, user_prompt):\n",
    "    results = []\n",
    "    for i in tqdm(range(len(metadata)), desc=\"Processing rows\"):\n",
    "        row = metadata.iloc[i]\n",
    "        raw_text = getEachRes(user_prompt, row)\n",
    "        result=llm_utils.get_llama_response(user_prompt=raw_text)\n",
    "        result=json.loads(result)\n",
    "        print(result)\n",
    "        results.append(result)\n",
    "\n",
    "    # After all rows are processed, write the accumulated results\n",
    "    with open(os.path.join(rootdir, \"results\", \"llama_results.json\"), 'w') as f:\n",
    "        json.dump(results, f)\n",
    "\n",
    "\n",
    "\n",
    "# create prompt message\n",
    "prompt_message = \"Extract the title and author names from this research paper: \\\"{}\\\". If a field cannot be found, return 'NA'. \"\n"
   ]
  },
  {
   "cell_type": "code",
   "execution_count": 17,
   "metadata": {},
   "outputs": [
    {
     "name": "stderr",
     "output_type": "stream",
     "text": [
      "Processing rows: 100%|██████████| 5/5 [00:03<00:00,  1.32it/s]\n"
     ]
    },
    {
     "data": {
      "text/plain": [
       "[{'Authors': ['Enrique M. '],\n",
       "  'Title': \"German to Spanish translation of Einstein's work on the formation of meanders in rivers.\"},\n",
       " {'Authors': ['Steven N. Shore', 'Vclav Pavl\\nk'],\n",
       "  'Title': 'How a fake Kepler portrait became iconic'},\n",
       " {'Authors': ['NA'],\n",
       "  'Title': 'Metáforas científicas no discurso jornalístico'},\n",
       " {'Authors': ['İzzet S'],\n",
       "  'Title': 'Review Article : Integral Role of Physics in Advancing Pharmacy Education and Research'},\n",
       " {'Authors': ['NA'], 'Title': 'HOLLYWOOD BLOCKBUSTERS'}]"
      ]
     },
     "execution_count": 17,
     "metadata": {},
     "output_type": "execute_result"
    }
   ],
   "source": [
    "GetTitleAuthor_gemini(metadata=metadata.iloc[0:5,], user_prompt=prompt_message, api_key=gemini_key)\n",
    "with open(os.path.join(rootdir, 'results', 'gemini_results.json')) as outfile:\n",
    "    outputs=json.load(outfile)\n",
    "\n",
    "outputs"
   ]
  },
  {
   "cell_type": "code",
   "execution_count": 18,
   "metadata": {},
   "outputs": [
    {
     "name": "stderr",
     "output_type": "stream",
     "text": [
      "Processing rows:   0%|          | 0/5 [00:00<?, ?it/s]2025-01-22 13:56:29,280 - INFO - HTTP Request: POST http://127.0.0.1:11434/api/chat \"HTTP/1.1 200 OK\"\n",
      "Processing rows:  20%|██        | 1/5 [00:02<00:08,  2.15s/it]"
     ]
    },
    {
     "name": "stdout",
     "output_type": "stream",
     "text": [
      "{'Title': \"German to Spanish translation of Einstein's work on the formation of meanders in rivers.\", 'Authors': ['Enrique M.']}\n"
     ]
    },
    {
     "name": "stderr",
     "output_type": "stream",
     "text": [
      "2025-01-22 13:56:31,100 - INFO - HTTP Request: POST http://127.0.0.1:11434/api/chat \"HTTP/1.1 200 OK\"\n",
      "Processing rows:  40%|████      | 2/5 [00:03<00:05,  1.96s/it]"
     ]
    },
    {
     "name": "stdout",
     "output_type": "stream",
     "text": [
      "{'Title': 'How a fake Kepler portrait became iconic', 'Authors': ['Steven N. Shore', 'Vaclav Pavlik']}\n"
     ]
    },
    {
     "name": "stderr",
     "output_type": "stream",
     "text": [
      "2025-01-22 13:56:33,493 - INFO - HTTP Request: POST http://127.0.0.1:11434/api/chat \"HTTP/1.1 200 OK\"\n",
      "Processing rows:  60%|██████    | 3/5 [00:06<00:04,  2.16s/it]"
     ]
    },
    {
     "name": "stdout",
     "output_type": "stream",
     "text": [
      "{'Title': 'Metáforas científicas no discurso jornalístico (Scientific Metaphors in the journalistic discourse)', 'Authors': ['NA']}\n"
     ]
    },
    {
     "name": "stderr",
     "output_type": "stream",
     "text": [
      "2025-01-22 13:56:35,546 - INFO - HTTP Request: POST http://127.0.0.1:11434/api/chat \"HTTP/1.1 200 OK\"\n",
      "Processing rows:  80%|████████  | 4/5 [00:08<00:02,  2.11s/it]"
     ]
    },
    {
     "name": "stdout",
     "output_type": "stream",
     "text": [
      "{'Title': 'Review  Article : Integral Role of Physics in Advancing Pharmacy Education and Research', 'Authors': ['İzzet S']}\n"
     ]
    },
    {
     "name": "stderr",
     "output_type": "stream",
     "text": [
      "2025-01-22 13:56:36,989 - INFO - HTTP Request: POST http://127.0.0.1:11434/api/chat \"HTTP/1.1 200 OK\"\n",
      "Processing rows: 100%|██████████| 5/5 [00:09<00:00,  1.97s/it]"
     ]
    },
    {
     "name": "stdout",
     "output_type": "stream",
     "text": [
      "{'Title': 'HOLLYWOOD BLOCKBUSTERS', 'Authors': ['NA']}\n"
     ]
    },
    {
     "name": "stderr",
     "output_type": "stream",
     "text": [
      "\n"
     ]
    },
    {
     "data": {
      "text/plain": [
       "[{'Title': \"German to Spanish translation of Einstein's work on the formation of meanders in rivers.\",\n",
       "  'Authors': ['Enrique M.']},\n",
       " {'Title': 'How a fake Kepler portrait became iconic',\n",
       "  'Authors': ['Steven N. Shore', 'Vaclav Pavlik']},\n",
       " {'Title': 'Metáforas científicas no discurso jornalístico (Scientific Metaphors in the journalistic discourse)',\n",
       "  'Authors': ['NA']},\n",
       " {'Title': 'Review  Article : Integral Role of Physics in Advancing Pharmacy Education and Research',\n",
       "  'Authors': ['İzzet S']},\n",
       " {'Title': 'HOLLYWOOD BLOCKBUSTERS', 'Authors': ['NA']}]"
      ]
     },
     "execution_count": 18,
     "metadata": {},
     "output_type": "execute_result"
    }
   ],
   "source": [
    "GetTitleAuthor_llama(metadata=metadata.iloc[0:5,], user_prompt=prompt_message)\n",
    "with open(os.path.join(rootdir, 'results', 'llama_results.json')) as outfile:\n",
    "    outputs=json.load(outfile)\n",
    "\n",
    "outputs"
   ]
  },
  {
   "cell_type": "code",
   "execution_count": 21,
   "metadata": {},
   "outputs": [
    {
     "data": {
      "text/html": [
       "<div>\n",
       "<style scoped>\n",
       "    .dataframe tbody tr th:only-of-type {\n",
       "        vertical-align: middle;\n",
       "    }\n",
       "\n",
       "    .dataframe tbody tr th {\n",
       "        vertical-align: top;\n",
       "    }\n",
       "\n",
       "    .dataframe thead th {\n",
       "        text-align: right;\n",
       "    }\n",
       "</style>\n",
       "<table border=\"1\" class=\"dataframe\">\n",
       "  <thead>\n",
       "    <tr style=\"text-align: right;\">\n",
       "      <th></th>\n",
       "      <th>Title</th>\n",
       "      <th>Authors</th>\n",
       "    </tr>\n",
       "  </thead>\n",
       "  <tbody>\n",
       "    <tr>\n",
       "      <th>0</th>\n",
       "      <td>German to Spanish translation of Einstein's wo...</td>\n",
       "      <td>[Enrique M.]</td>\n",
       "    </tr>\n",
       "    <tr>\n",
       "      <th>1</th>\n",
       "      <td>How a fake Kepler portrait became iconic</td>\n",
       "      <td>[Steven N. Shore, Vaclav Pavlik]</td>\n",
       "    </tr>\n",
       "    <tr>\n",
       "      <th>2</th>\n",
       "      <td>Metáforas científicas no discurso jornalístico...</td>\n",
       "      <td>[NA]</td>\n",
       "    </tr>\n",
       "    <tr>\n",
       "      <th>3</th>\n",
       "      <td>Review  Article : Integral Role of Physics in ...</td>\n",
       "      <td>[İzzet S]</td>\n",
       "    </tr>\n",
       "    <tr>\n",
       "      <th>4</th>\n",
       "      <td>HOLLYWOOD BLOCKBUSTERS</td>\n",
       "      <td>[NA]</td>\n",
       "    </tr>\n",
       "  </tbody>\n",
       "</table>\n",
       "</div>"
      ],
      "text/plain": [
       "                                               Title  \\\n",
       "0  German to Spanish translation of Einstein's wo...   \n",
       "1           How a fake Kepler portrait became iconic   \n",
       "2  Metáforas científicas no discurso jornalístico...   \n",
       "3  Review  Article : Integral Role of Physics in ...   \n",
       "4                             HOLLYWOOD BLOCKBUSTERS   \n",
       "\n",
       "                            Authors  \n",
       "0                      [Enrique M.]  \n",
       "1  [Steven N. Shore, Vaclav Pavlik]  \n",
       "2                              [NA]  \n",
       "3                         [İzzet S]  \n",
       "4                              [NA]  "
      ]
     },
     "metadata": {},
     "output_type": "display_data"
    },
    {
     "data": {
      "text/html": [
       "<div>\n",
       "<style scoped>\n",
       "    .dataframe tbody tr th:only-of-type {\n",
       "        vertical-align: middle;\n",
       "    }\n",
       "\n",
       "    .dataframe tbody tr th {\n",
       "        vertical-align: top;\n",
       "    }\n",
       "\n",
       "    .dataframe thead th {\n",
       "        text-align: right;\n",
       "    }\n",
       "</style>\n",
       "<table border=\"1\" class=\"dataframe\">\n",
       "  <thead>\n",
       "    <tr style=\"text-align: right;\">\n",
       "      <th></th>\n",
       "      <th>Authors</th>\n",
       "      <th>Title</th>\n",
       "    </tr>\n",
       "  </thead>\n",
       "  <tbody>\n",
       "    <tr>\n",
       "      <th>0</th>\n",
       "      <td>[Enrique M. ]</td>\n",
       "      <td>German to Spanish translation of Einstein's wo...</td>\n",
       "    </tr>\n",
       "    <tr>\n",
       "      <th>1</th>\n",
       "      <td>[Steven N. Shore, Vclav Pavl\\nk]</td>\n",
       "      <td>How a fake Kepler portrait became iconic</td>\n",
       "    </tr>\n",
       "    <tr>\n",
       "      <th>2</th>\n",
       "      <td>[NA]</td>\n",
       "      <td>Metáforas científicas no discurso jornalístico</td>\n",
       "    </tr>\n",
       "    <tr>\n",
       "      <th>3</th>\n",
       "      <td>[İzzet S]</td>\n",
       "      <td>Review Article : Integral Role of Physics in A...</td>\n",
       "    </tr>\n",
       "    <tr>\n",
       "      <th>4</th>\n",
       "      <td>[NA]</td>\n",
       "      <td>HOLLYWOOD BLOCKBUSTERS</td>\n",
       "    </tr>\n",
       "  </tbody>\n",
       "</table>\n",
       "</div>"
      ],
      "text/plain": [
       "                            Authors  \\\n",
       "0                     [Enrique M. ]   \n",
       "1  [Steven N. Shore, Vclav Pavl\\nk]   \n",
       "2                              [NA]   \n",
       "3                         [İzzet S]   \n",
       "4                              [NA]   \n",
       "\n",
       "                                               Title  \n",
       "0  German to Spanish translation of Einstein's wo...  \n",
       "1           How a fake Kepler portrait became iconic  \n",
       "2     Metáforas científicas no discurso jornalístico  \n",
       "3  Review Article : Integral Role of Physics in A...  \n",
       "4                             HOLLYWOOD BLOCKBUSTERS  "
      ]
     },
     "metadata": {},
     "output_type": "display_data"
    }
   ],
   "source": [
    "with open('../results/llama_results.json') as outfile:\n",
    "    json_data=json.load(outfile)\n",
    "df_llama = pd.json_normalize(json_data)\n",
    "\n",
    "\n",
    "\n",
    "with open('../results/gemini_results.json') as outfile:\n",
    "    json_data=json.load(outfile)\n",
    "df_gemini = pd.json_normalize(json_data)\n",
    "\n",
    "\n",
    "display(df_llama)\n",
    "display(df_gemini)"
   ]
  },
  {
   "cell_type": "code",
   "execution_count": 45,
   "metadata": {},
   "outputs": [
    {
     "data": {
      "text/html": [
       "<div>\n",
       "<style scoped>\n",
       "    .dataframe tbody tr th:only-of-type {\n",
       "        vertical-align: middle;\n",
       "    }\n",
       "\n",
       "    .dataframe tbody tr th {\n",
       "        vertical-align: top;\n",
       "    }\n",
       "\n",
       "    .dataframe thead th {\n",
       "        text-align: right;\n",
       "    }\n",
       "</style>\n",
       "<table border=\"1\" class=\"dataframe\">\n",
       "  <thead>\n",
       "    <tr style=\"text-align: right;\">\n",
       "      <th></th>\n",
       "      <th>Title</th>\n",
       "      <th>Authors</th>\n",
       "    </tr>\n",
       "  </thead>\n",
       "  <tbody>\n",
       "    <tr>\n",
       "      <th>0</th>\n",
       "      <td>German to Spanish translation of Einstein's wo...</td>\n",
       "      <td>Enrique M. Padilla, Birgit L. Emberger, Manuel...</td>\n",
       "    </tr>\n",
       "    <tr>\n",
       "      <th>1</th>\n",
       "      <td>How a fake Kepler portrait became iconic</td>\n",
       "      <td>Steven N. Shore, Václav Pavlík</td>\n",
       "    </tr>\n",
       "    <tr>\n",
       "      <th>2</th>\n",
       "      <td>Scientific Metaphors in the journalistic disco...</td>\n",
       "      <td>Osame Kinouchi, Angélica A. Mandrá</td>\n",
       "    </tr>\n",
       "    <tr>\n",
       "      <th>3</th>\n",
       "      <td>Review Article: Integral Role of Physics in Ad...</td>\n",
       "      <td>İzzet Sakallı</td>\n",
       "    </tr>\n",
       "    <tr>\n",
       "      <th>4</th>\n",
       "      <td>Hollywood Blockbusters: Unlimited Fun but Limi...</td>\n",
       "      <td>C. J. Efthimiou, R. A. Llewellyn</td>\n",
       "    </tr>\n",
       "    <tr>\n",
       "      <th>5</th>\n",
       "      <td>Ab Initio Study of Different Acid Molecules In...</td>\n",
       "      <td>Aleksey A. Zakharenko, S. Karthikyan, K. S. Kim</td>\n",
       "    </tr>\n",
       "    <tr>\n",
       "      <th>6</th>\n",
       "      <td>Medium-scale thermospheric gravity waves in th...</td>\n",
       "      <td>Garima Malhotra, Timothy Fuller-Rowell, Tzu-We...</td>\n",
       "    </tr>\n",
       "    <tr>\n",
       "      <th>7</th>\n",
       "      <td>Climate Engineering Responses to Climate Emerg...</td>\n",
       "      <td>J. J. Blackstock, D. S. Battisti, K. Caldeira,...</td>\n",
       "    </tr>\n",
       "    <tr>\n",
       "      <th>8</th>\n",
       "      <td>Revealing pre-earthquake signatures in atmosph...</td>\n",
       "      <td>Dimitar Ouzounov, Sergey Pulinets, Dmitry Davi...</td>\n",
       "    </tr>\n",
       "    <tr>\n",
       "      <th>9</th>\n",
       "      <td>Coherent radiation reaction effects in laser-v...</td>\n",
       "      <td>P. W. Smorenburg, L. P. J. Kamp, G. A. Geloni,...</td>\n",
       "    </tr>\n",
       "  </tbody>\n",
       "</table>\n",
       "</div>"
      ],
      "text/plain": [
       "                                               Title  \\\n",
       "0  German to Spanish translation of Einstein's wo...   \n",
       "1           How a fake Kepler portrait became iconic   \n",
       "2  Scientific Metaphors in the journalistic disco...   \n",
       "3  Review Article: Integral Role of Physics in Ad...   \n",
       "4  Hollywood Blockbusters: Unlimited Fun but Limi...   \n",
       "5  Ab Initio Study of Different Acid Molecules In...   \n",
       "6  Medium-scale thermospheric gravity waves in th...   \n",
       "7  Climate Engineering Responses to Climate Emerg...   \n",
       "8  Revealing pre-earthquake signatures in atmosph...   \n",
       "9  Coherent radiation reaction effects in laser-v...   \n",
       "\n",
       "                                             Authors  \n",
       "0  Enrique M. Padilla, Birgit L. Emberger, Manuel...  \n",
       "1                     Steven N. Shore, Václav Pavlík  \n",
       "2                 Osame Kinouchi, Angélica A. Mandrá  \n",
       "3                                      İzzet Sakallı  \n",
       "4                   C. J. Efthimiou, R. A. Llewellyn  \n",
       "5    Aleksey A. Zakharenko, S. Karthikyan, K. S. Kim  \n",
       "6  Garima Malhotra, Timothy Fuller-Rowell, Tzu-We...  \n",
       "7  J. J. Blackstock, D. S. Battisti, K. Caldeira,...  \n",
       "8  Dimitar Ouzounov, Sergey Pulinets, Dmitry Davi...  \n",
       "9  P. W. Smorenburg, L. P. J. Kamp, G. A. Geloni,...  "
      ]
     },
     "execution_count": 45,
     "metadata": {},
     "output_type": "execute_result"
    }
   ],
   "source": [
    "metadata.iloc[0:10][['Title', 'Authors']]"
   ]
  }
 ],
 "metadata": {
  "kernelspec": {
   "display_name": "LLMVenv",
   "language": "python",
   "name": "python3"
  },
  "language_info": {
   "codemirror_mode": {
    "name": "ipython",
    "version": 3
   },
   "file_extension": ".py",
   "mimetype": "text/x-python",
   "name": "python",
   "nbconvert_exporter": "python",
   "pygments_lexer": "ipython3",
   "version": "3.13.1"
  },
  "orig_nbformat": 4
 },
 "nbformat": 4,
 "nbformat_minor": 2
}
