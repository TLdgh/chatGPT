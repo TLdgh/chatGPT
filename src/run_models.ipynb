{
 "cells": [
  {
   "cell_type": "code",
   "execution_count": null,
   "metadata": {},
   "outputs": [],
   "source": [
    "import os, openai, json, llm_utils\n",
    "import pandas as pd\n",
    "from tqdm import tqdm\n",
    "from azure.storage.blob import BlobServiceClient\n",
    "from Arxiv_API import Arxiv_API\n",
    "\n",
    "openai.api_key =\"\"\n",
    "connection_str=\"\"\n",
    "blob_service_client = BlobServiceClient.from_connection_string(conn_str=connection_str)\n",
    "\n"
   ]
  },
  {
   "cell_type": "code",
   "execution_count": null,
   "metadata": {},
   "outputs": [],
   "source": [
    "# Download the PDF from Azure storage account\n",
    "with open(\"../SampleData/Data.pdf\", \"wb\") as pdf_file:\n",
    "        blob_data = blob_service_client.get_blob_client(container=\"samplepicture\", blob=f\"Data/Article_2306.00251v1.pdf\").download_blob()\n",
    "        pdf_file.write(blob_data.readall())\n",
    "\n",
    "\n",
    "# Or download pdf from Arxiv and save as metadata\n",
    "data=Arxiv_API(file_dir='../SampleData',search='Bayesian', start_date='2024-01-01', end_date='2024-11-30', start=0, max_results=2, downloadstuff=True).df"
   ]
  },
  {
   "cell_type": "code",
   "execution_count": null,
   "metadata": {},
   "outputs": [],
   "source": [
    "# Or load the data from metadata.json\n",
    "with open('../SampleData/metadata.json') as outfile:\n",
    "    outputs=json.load(outfile)\n",
    "\n",
    "metadata=pd.DataFrame(outputs)\n",
    "display(metadata)"
   ]
  },
  {
   "cell_type": "code",
   "execution_count": null,
   "metadata": {},
   "outputs": [],
   "source": [
    "def GetTitleAuthor():\n",
    "    engine=\"gpt-3.5-turbo\"\n",
    "    system_prompt = \"Please extract the title and author names:\"\n",
    "    system_prompt_tokens = llm_utils.count_tokens(text=system_prompt, engine=engine)\n",
    "\n",
    "    def getEachRes(row):\n",
    "        input_max_tokens = 100\n",
    "\n",
    "        raw_text = row['Content']\n",
    "        user_prompt = llm_utils.get_tokens_between_indices(\n",
    "            text=raw_text, \n",
    "            engine=engine, \n",
    "            max_tokens=input_max_tokens)\n",
    "        print(user_prompt)\n",
    "        \n",
    "        response=llm_utils.get_gpt_response(user_prompt=user_prompt, \n",
    "                                            system_prompt=system_prompt,\n",
    "                                            engine=engine,\n",
    "                                            max_completion=500)\n",
    "        print(\"ChatGPT Response:\", response)\n",
    "        return response\n",
    "\n",
    "    results = []\n",
    "    for i in tqdm(range(len(metadata)), desc=\"Processing rows\"):\n",
    "        row = metadata.iloc[i]\n",
    "        result = getEachRes(row)\n",
    "        results.append(result)\n",
    "\n",
    "    # After all rows are processed, write the accumulated results\n",
    "    with open(\"all_results.json\", 'w') as f:\n",
    "        json.dump(results, f)\n",
    "\n",
    "\n",
    "GetTitleAuthor()"
   ]
  }
 ],
 "metadata": {
  "kernelspec": {
   "display_name": "GPTVenv",
   "language": "python",
   "name": "python3"
  },
  "language_info": {
   "codemirror_mode": {
    "name": "ipython",
    "version": 3
   },
   "file_extension": ".py",
   "mimetype": "text/x-python",
   "name": "python",
   "nbconvert_exporter": "python",
   "pygments_lexer": "ipython3",
   "version": "3.12.5"
  },
  "orig_nbformat": 4
 },
 "nbformat": 4,
 "nbformat_minor": 2
}
